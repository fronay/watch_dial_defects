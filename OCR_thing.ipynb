{
 "cells": [
  {
   "cell_type": "code",
   "execution_count": 118,
   "metadata": {},
   "outputs": [
    {
     "data": {
      "image/png": "[encoded data removed]",
      "text/plain": [
       "<matplotlib.figure.Figure at 0x1c136e7a50>"
      ]
     },
     "metadata": {},
     "output_type": "display_data"
    },
    {
     "name": "stdout",
     "output_type": "stream",
     "text": [
      "2\n"
     ]
    },
    {
     "data": {
      "image/png": "[encoded data removed]",
      "text/plain": [
       "<matplotlib.figure.Figure at 0x1c137cdf90>"
      ]
     },
     "metadata": {},
     "output_type": "display_data"
    }
   ],
   "source": [
    "from skimage import io\n",
    "import matplotlib.pyplot as plt\n",
    "import cv2 \n",
    "import time \n",
    "\n",
    "# jigo = time.time()\n",
    "orig = cv2.imread(\"small_bboxes/0.png\")\n",
    "\n",
    "def preprocess_digits(roi):\n",
    "    \"\"\"\n",
    "    Blurs and thresholds a color roi, returns list of image sections potentially containing digits\n",
    "    as numpy arrays; reformatted to 28*28 for MNIST-style digit recognition\n",
    "    \"\"\"\n",
    "    regions = []\n",
    "    small = roi.copy()\n",
    "    small = cv2.cvtColor(roi, cv2.COLOR_BGR2GRAY)\n",
    "    small = cv2.medianBlur(small,3)\n",
    "    _, small = cv2.threshold(small,100, 255,cv2.THRESH_BINARY)\n",
    "    cnts = cv2.findContours(small.copy(), cv2.RETR_EXTERNAL, cv2.CHAIN_APPROX_SIMPLE)[0]\n",
    "    cnts = contours.sort_contours(refCnts, method=\"left-to-right\")[0]\n",
    "    for cn in cnts:\n",
    "        # compute the bounding box of the contour and draw it on our\n",
    "        # image\n",
    "        (x, y, w, h) = cv2.boundingRect(cn)\n",
    "        # check that the bounding box of the putative number takes up at least 5% of roi area:\n",
    "        if w*h*1.0/(small.shape[0]*small.shape[1]) > 0.05:\n",
    "            potential_digit = small.copy()[y-2:y+h+2, x-2:x+w+3]\n",
    "            potential_digit = cv2.resize(potential_digit, (28,28))\n",
    "            regions.append(potential_digit)\n",
    "    return regions\n",
    "\"\"\"\n",
    "small = cv2.cvtColor(orig, cv2.COLOR_BGR2GRAY)\n",
    "small = cv2.medianBlur(small,3)\n",
    "print \"meano:\", np.mean(small)\n",
    "ret, small = cv2.threshold(small,100, 255,cv2.THRESH_BINARY)\n",
    "\n",
    "refCnts = cv2.findContours(small.copy(), cv2.RETR_EXTERNAL, cv2.CHAIN_APPROX_SIMPLE)[0]\n",
    "refCnts = contours.sort_contours(refCnts, method=\"left-to-right\")[0]\n",
    "# loop over the (sorted) contours\n",
    "for c in refCnts:\n",
    "    # compute the bounding box of the contour and draw it on our\n",
    "    # image\n",
    "    (x, y, w, h) = cv2.boundingRect(c)\n",
    "    # check that the bounding box of the putative number takes up at least 5% of roi area:\n",
    "    if w*h*1.0/(small.shape[0]*small.shape[1]) > 0.05:\n",
    "        # print x,y,w,h\n",
    "        goran = small.copy()[y-3:y+h+3, x-3:x+w+3]\n",
    "        goran_arnautovic = cv2.resize(goran, (28,28))\n",
    "        io.imsave(\"small_bboxes/goran_arnautovic2.png\", goran_arnautovic)\n",
    "    break\n",
    "        #print cv2.boundingRect(c)\n",
    "        # cv2.rectangle(small, (x-3, y-3), (x + w +3, y + h+3), 255, 1)\n",
    "\n",
    "\n",
    "\"\"\"    \n",
    "plt.imshow(orig)\n",
    "plt.show()\n",
    "gimgom = preprocess_digits(orig)\n",
    "print len(gimgom)\n",
    "# plt.imshow(small)\n",
    "plt.imshow(np.hstack(gimgom))\n",
    "plt.show()\n",
    "# wigo = time.time() - jigo\n",
    "# print wigo"
   ]
  },
  {
   "cell_type": "code",
   "execution_count": null,
   "metadata": {
    "collapsed": true
   },
   "outputs": [],
   "source": [
    "\n",
    "    \n",
    "    \n",
    "    \n",
    "    \n",
    "    "
   ]
  },
  {
   "cell_type": "code",
   "execution_count": null,
   "metadata": {
    "collapsed": true
   },
   "outputs": [],
   "source": []
  }
 ],
 "metadata": {
  "kernelspec": {
   "display_name": "Python 2",
   "language": "python",
   "name": "python2"
  },
  "language_info": {
   "codemirror_mode": {
    "name": "ipython",
    "version": 2
   },
   "file_extension": ".py",
   "mimetype": "text/x-python",
   "name": "python",
   "nbconvert_exporter": "python",
   "pygments_lexer": "ipython2",
   "version": "2.7.13"
  }
 },
 "nbformat": 4,
 "nbformat_minor": 2
}
